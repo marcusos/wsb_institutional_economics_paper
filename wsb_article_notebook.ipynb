{
  "nbformat": 4,
  "nbformat_minor": 0,
  "metadata": {
    "colab": {
      "name": "wsb_article_notebook.ipynb",
      "provenance": [],
      "collapsed_sections": [],
      "toc_visible": true,
      "mount_file_id": "1ILDnj4CaHy0H6JvobsCCkqY-mmR6ClUN",
      "authorship_tag": "ABX9TyOWIbztT8pYO+R8b9OqIv0w",
      "include_colab_link": true
    },
    "kernelspec": {
      "name": "python3",
      "display_name": "Python 3"
    }
  },
  "cells": [
    {
      "cell_type": "markdown",
      "metadata": {
        "id": "view-in-github",
        "colab_type": "text"
      },
      "source": [
        "<a href=\"https://colab.research.google.com/github/marcusos/wsb_institutional_economics_paper/blob/main/wsb_article_notebook.ipynb\" target=\"_parent\"><img src=\"https://colab.research.google.com/assets/colab-badge.svg\" alt=\"Open In Colab\"/></a>"
      ]
    },
    {
      "cell_type": "markdown",
      "metadata": {
        "id": "YYP6VohlYT-U"
      },
      "source": [
        "## To-dos\n",
        "- [x] Add the WSB data to drive\n",
        "- [x] Load the WSB data\n",
        "- [ ] Build post time series about the main WSB tickers\n",
        "- [ ] Build the top poster since 2021\n",
        "- [ ] Build tops posters by tickers"
      ]
    },
    {
      "cell_type": "markdown",
      "metadata": {
        "id": "ecfJXCqVfR5f"
      },
      "source": [
        "## Brainstorm\n",
        "* Do a topic moeling, add "
      ]
    },
    {
      "cell_type": "markdown",
      "metadata": {
        "id": "ME3FYlQFcAEi"
      },
      "source": [
        "## Installing dependencies"
      ]
    },
    {
      "cell_type": "code",
      "metadata": {
        "id": "0rBpyha8b9Qs"
      },
      "source": [
        "# Python API reddit warapper\n",
        "#!pip uninstall asyncpraw\n",
        "#!pip install asyncpraw"
      ],
      "execution_count": null,
      "outputs": []
    },
    {
      "cell_type": "markdown",
      "metadata": {
        "id": "JlVQKtKegIMr"
      },
      "source": [
        "## Setup"
      ]
    },
    {
      "cell_type": "code",
      "metadata": {
        "id": "3_IwvzDRWWHo"
      },
      "source": [
        "%reload_ext autoreload\n",
        "%autoreload 1\n",
        "%aimport functions"
      ],
      "execution_count": 16,
      "outputs": []
    },
    {
      "cell_type": "code",
      "metadata": {
        "id": "Ve-qtA1VgM2O"
      },
      "source": [
        "from google.colab import drive\n",
        "import pandas as pd\n",
        "import seaborn as sns\n",
        "from functions import *\n",
        "from matplotlib import pyplot\n",
        "#import praw\n",
        "# https://www.reddit.com/prefs/apps\n"
      ],
      "execution_count": 17,
      "outputs": []
    },
    {
      "cell_type": "markdown",
      "metadata": {
        "id": "QfwrdcUIY50Q"
      },
      "source": [
        "## Load data"
      ]
    },
    {
      "cell_type": "code",
      "metadata": {
        "id": "MXZ1rUVSY8H_"
      },
      "source": [
        "# Kaggle data link: https://www.kaggle.com/gpreda/reddit-wallstreetsbets-posts\n",
        "# https://www.kaggle.com/leukipp/reddit-finance-data\n",
        "#df = pd.read_hdf('/content/drive/MyDrive/Colab Notebooks/mestrado/economia_instituicoes/data/reddit_wsb.csv', parse_dates = ['timestamp'], infer_datetime_format=True)\n",
        "df = pd.read_csv(\n",
        "    '/content/drive/MyDrive/Colab Notebooks/mestrado/economia_instituicoes/data/submissions_reddit.csv', \n",
        "    parse_dates = ['created', 'retrieved', 'edited'], \n",
        "    infer_datetime_format=True\n",
        ")\n",
        "\n",
        "df['title'] = df.title.str.lower()\n",
        "df['selftext'] = df.title.str.lower()\n",
        "df['text'] = df.title + \" \" + df.selftext\n",
        "df['text'] = df.title.astype(str)\n",
        "df['created_date'] = df['created'].dt.floor('d')\n",
        "add_stock_col(df)\n",
        "\n",
        "stock_df = df[df.stock.isin(['amc', 'gme'])]"
      ],
      "execution_count": 41,
      "outputs": []
    },
    {
      "cell_type": "code",
      "metadata": {
        "colab": {
          "base_uri": "https://localhost:8080/"
        },
        "id": "gKEk5-YNYXSZ",
        "outputId": "40760ed2-cfda-4b90-af21-20e73a7b0472"
      },
      "source": [
        "df.dtypes"
      ],
      "execution_count": 42,
      "outputs": [
        {
          "output_type": "execute_result",
          "data": {
            "text/plain": [
              "id                               object\n",
              "author                           object\n",
              "created                  datetime64[ns]\n",
              "retrieved                datetime64[ns]\n",
              "edited                   datetime64[ns]\n",
              "pinned                            int64\n",
              "archived                          int64\n",
              "locked                            int64\n",
              "removed                           int64\n",
              "deleted                           int64\n",
              "is_self                           int64\n",
              "is_video                          int64\n",
              "is_original_content               int64\n",
              "title                            object\n",
              "link_flair_text                  object\n",
              "upvote_ratio                    float64\n",
              "score                             int64\n",
              "gilded                            int64\n",
              "total_awards_received             int64\n",
              "num_comments                      int64\n",
              "num_crossposts                    int64\n",
              "selftext                         object\n",
              "thumbnail                        object\n",
              "shortlink                        object\n",
              "text                             object\n",
              "created_date             datetime64[ns]\n",
              "stock                            object\n",
              "dtype: object"
            ]
          },
          "metadata": {
            "tags": []
          },
          "execution_count": 42
        }
      ]
    },
    {
      "cell_type": "markdown",
      "metadata": {
        "id": "swyo6LBWftDd"
      },
      "source": [
        "## Data pre-processing\n",
        "\n"
      ]
    },
    {
      "cell_type": "markdown",
      "metadata": {
        "id": "cEWWh6vlf6MP"
      },
      "source": [
        "## EDA"
      ]
    },
    {
      "cell_type": "markdown",
      "metadata": {
        "id": "YysqPSRLaCh_"
      },
      "source": [
        "Dataset summary"
      ]
    },
    {
      "cell_type": "code",
      "metadata": {
        "colab": {
          "base_uri": "https://localhost:8080/"
        },
        "id": "Zr-T1NTXePe8",
        "outputId": "c7f477b5-d067-43b0-9a70-da2f7165d9fd"
      },
      "source": [
        "print('WSB data summary')\n",
        "print('Data size:', len(df))\n",
        "print('Max data:', df.created.max())\n",
        "print('Min data:', df.created.min())"
      ],
      "execution_count": 43,
      "outputs": [
        {
          "output_type": "stream",
          "text": [
            "WSB data summary\n",
            "Data size: 497489\n",
            "Max data: 2021-03-20 14:33:43\n",
            "Min data: 2021-01-01 00:02:06\n"
          ],
          "name": "stdout"
        }
      ]
    },
    {
      "cell_type": "code",
      "metadata": {
        "colab": {
          "base_uri": "https://localhost:8080/",
          "height": 406
        },
        "id": "Cz9NaWmjgsKq",
        "outputId": "eb435644-7fed-4ea9-9327-4dda39396174"
      },
      "source": [
        "df_grouped = df.groupby(['created_date'])['id'].count().reset_index()\n",
        "\n",
        "fig, ax = pyplot.subplots(figsize=(13,6))\n",
        "sns.lineplot(x='created_date', y='id', data=df_grouped)"
      ],
      "execution_count": 44,
      "outputs": [
        {
          "output_type": "execute_result",
          "data": {
            "text/plain": [
              "<matplotlib.axes._subplots.AxesSubplot at 0x7fc338d860d0>"
            ]
          },
          "metadata": {
            "tags": []
          },
          "execution_count": 44
        },
        {
          "output_type": "display_data",
          "data": {
            "image/png": "[encoded data removed]",
            "text/plain": [
              "<Figure size 936x432 with 1 Axes>"
            ]
          },
          "metadata": {
            "tags": [],
            "needs_background": "light"
          }
        }
      ]
    },
    {
      "cell_type": "markdown",
      "metadata": {
        "id": "P6DTJknOayyF"
      },
      "source": [
        "Plot GME and AMC timeseries"
      ]
    },
    {
      "cell_type": "code",
      "metadata": {
        "id": "kBzkzDEza48E"
      },
      "source": [
        ""
      ],
      "execution_count": null,
      "outputs": []
    },
    {
      "cell_type": "markdown",
      "metadata": {
        "id": "5EgBbrt2WANL"
      },
      "source": [
        "## Article Planning"
      ]
    },
    {
      "cell_type": "markdown",
      "metadata": {
        "id": "ofY9Pvb6U20S"
      },
      "source": [
        "## Glossary\n",
        "Thinknum - plata: https://www.thinknum.com/datasets"
      ]
    },
    {
      "cell_type": "markdown",
      "metadata": {
        "id": "oMtc-WloUxJ_"
      },
      "source": [
        "## References\n",
        "* Reddit data\n",
        "  * https://www.kaggle.com/gpreda/reddit-wallstreetsbets-posts\n",
        "* EDA and Sentiment Analysis of Reddit Data\n",
        "  * https://towardsdatascience.com/exploring-reddit-wallstreetbets-posts-data-bed613386029\n",
        "* Using BERT, HDBSCAN and PEGASUS to automate insight generation from text\n",
        "  * https://towardsdatascience.com/using-the-wallstreetbets-subreddit-to-gain-insights-on-historic-stock-market-trends-9e20ced0bc1d\n",
        "* Serving model:\n",
        "  * https://towardsdatascience.com/deploying-ml-models-in-production-with-fastapi-and-celery-7063e539a5db\n",
        "* News about WSB data:\n",
        "  * https://edition.cnn.com/2021/02/03/investing/wall-street-reddit-hedge-funds/index.html\n",
        "* Tickers EDA, and top tokens\n",
        "  * https://www.kaggle.com/asheone/descriptive-analysis-most-used-words-and-tickers"
      ]
    }
  ]
}